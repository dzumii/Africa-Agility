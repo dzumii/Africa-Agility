{
 "cells": [
  {
   "cell_type": "markdown",
   "id": "6d30b248",
   "metadata": {},
   "source": [
    "# Conditional Statements and Loops"
   ]
  },
  {
   "cell_type": "markdown",
   "id": "a3dcca51",
   "metadata": {},
   "source": [
    "## IF"
   ]
  },
  {
   "cell_type": "code",
   "execution_count": null,
   "id": "d3d24b37",
   "metadata": {},
   "outputs": [],
   "source": [
    "if 1<2:\n",
    "    print('yep!')"
   ]
  },
  {
   "cell_type": "code",
   "execution_count": null,
   "id": "1616d51e",
   "metadata": {},
   "outputs": [],
   "source": [
    "if 1>2:\n",
    "    print('yep!')"
   ]
  },
  {
   "cell_type": "code",
   "execution_count": null,
   "id": "e94c58be",
   "metadata": {},
   "outputs": [],
   "source": [
    "if 1<2:\n",
    "    print('good!')\n",
    "print('ok, we are with this training')\n"
   ]
  },
  {
   "cell_type": "code",
   "execution_count": null,
   "id": "2ec247b5",
   "metadata": {},
   "outputs": [],
   "source": [
    "if 1>2:\n",
    "    print('good!')\n",
    "print('yep!')"
   ]
  },
  {
   "cell_type": "code",
   "execution_count": null,
   "id": "71d81cef",
   "metadata": {},
   "outputs": [],
   "source": [
    "if 1<2:\n",
    "    print('good!')\n",
    "    print('yep!')\n",
    "    "
   ]
  },
  {
   "cell_type": "code",
   "execution_count": null,
   "id": "f635460e",
   "metadata": {},
   "outputs": [],
   "source": [
    "if 1<2:\n",
    "    print('good!')\n",
    "    print('yep!')\n",
    "    print(123)"
   ]
  },
  {
   "cell_type": "code",
   "execution_count": null,
   "id": "bbc7f566",
   "metadata": {},
   "outputs": [],
   "source": [
    "rice_price=400\n",
    "if rice_price==400:\n",
    "    print('buy one cup')"
   ]
  },
  {
   "cell_type": "code",
   "execution_count": null,
   "id": "9ecef164",
   "metadata": {},
   "outputs": [],
   "source": [
    "rice_price=500\n",
    "if rice_price==400:\n",
    "    print('buy one cup')"
   ]
  },
  {
   "cell_type": "code",
   "execution_count": null,
   "id": "f9c3d91c",
   "metadata": {},
   "outputs": [],
   "source": [
    "rice_price = 400\n",
    "money_given = 900\n",
    "change = money_given % rice_price\n",
    "cups = money_given // rice_price\n",
    "if rice_price == 400:\n",
    "    print (cups,change)\n"
   ]
  },
  {
   "cell_type": "code",
   "execution_count": null,
   "id": "1bbd4c77",
   "metadata": {},
   "outputs": [],
   "source": [
    "rice_price=400\n",
    "money_given=900\n",
    "change=money_given%rice_price\n",
    "if rice_price==400:\n",
    "    #print('i will collect',change,'change')\n",
    "    print('i will collet {} change'.format(change))"
   ]
  },
  {
   "cell_type": "code",
   "execution_count": null,
   "id": "2d9e4d0b",
   "metadata": {},
   "outputs": [],
   "source": [
    "rice_price=400\n",
    "money_given=900\n",
    "change=money_given%rice_price\n",
    "cups=money_given//rice_price\n",
    "if rice_price==400:\n",
    "    #print('i will buy cups _ of rice and collect _ change')\n",
    "    print('i bought {} cups of rice and collected {} change'.format(cups,change))"
   ]
  },
  {
   "cell_type": "code",
   "execution_count": null,
   "id": "0a94d4b8",
   "metadata": {},
   "outputs": [],
   "source": [
    "rice_price=400\n",
    "money_given=900\n",
    "change=money_given%rice_price\n",
    "cups=money_given//rice_price\n",
    "if rice_price==400:\n",
    "    #print('i will buy cups _ of rice and collect _ change')\n",
    "    print('i bought {} cups of rice and collected {} change'.format(change,cups))"
   ]
  },
  {
   "cell_type": "code",
   "execution_count": null,
   "id": "0f1c42e5",
   "metadata": {},
   "outputs": [],
   "source": [
    "rice_price=400\n",
    "money_given=1000000\n",
    "change=money_given%rice_price\n",
    "cups=money_given//rice_price\n",
    "if rice_price==400:\n",
    "    print('i bought {} cups of rice and collected {} change'.format(cups,change))\n"
   ]
  },
  {
   "cell_type": "code",
   "execution_count": null,
   "id": "619e98bb",
   "metadata": {},
   "outputs": [],
   "source": [
    "rice_price=300\n",
    "money_given=1000000\n",
    "change=money_given%rice_price\n",
    "cups=money_given//rice_price\n",
    "if rice_price==300:\n",
    "    print('i bought {} cups of rice and collected {} change'.format(cups,change))"
   ]
  },
  {
   "cell_type": "code",
   "execution_count": null,
   "id": "127f1aaa",
   "metadata": {},
   "outputs": [],
   "source": []
  },
  {
   "cell_type": "markdown",
   "id": "8666eaa1",
   "metadata": {},
   "source": [
    "## IF ELSE"
   ]
  },
  {
   "cell_type": "code",
   "execution_count": null,
   "id": "0ce412a8",
   "metadata": {},
   "outputs": [],
   "source": [
    "rice_price=400\n",
    "if rice_price==400:\n",
    "    print('buy one cup')\n",
    "else:\n",
    "    print('dont buy it')"
   ]
  },
  {
   "cell_type": "code",
   "execution_count": null,
   "id": "8b9d5c7a",
   "metadata": {},
   "outputs": [],
   "source": [
    "rice_price=500\n",
    "if rice_price==400:\n",
    "    print('buy one cup')\n",
    "else:\n",
    "    print('dont buy it')"
   ]
  },
  {
   "cell_type": "code",
   "execution_count": null,
   "id": "890e1fa3",
   "metadata": {},
   "outputs": [],
   "source": [
    "rice_price=700\n",
    "money_given=900\n",
    "change=money_given%rice_price\n",
    "cups=money_given//rice_price\n",
    "if rice_price==400:\n",
    "    print('i bought {} cups of rice and collected {} change'.format(cups,change))\n",
    "elif rice_price==450:\n",
    "    print ('i bought {} cups of rice and collected {} change'.format(cups,change))\n",
    "elif rice_price==500:\n",
    "    print ('i bought {} cups of rice and collected {} change'.format(cups,change))\n",
    "else:\n",
    "    print ('return my money')\n"
   ]
  },
  {
   "cell_type": "code",
   "execution_count": null,
   "id": "ada7e855",
   "metadata": {},
   "outputs": [],
   "source": [
    "rice_price=450\n",
    "money_given=900\n",
    "change=money_given%rice_price\n",
    "cups=money_given//rice_price\n",
    "if rice_price==400:\n",
    "    print('i bought {} cups of rice and collected {} change'.format(cups,change))\n",
    "elif rice_price==450:\n",
    "    print ('i bought {} cups of rice and collected {} change'.format(cups,change))\n",
    "elif rice_price==500:\n",
    "    print ('i bought {} cups of rice and collected {} change'.format(cups,change))\n",
    "else:\n",
    "    print ('return my money')"
   ]
  },
  {
   "cell_type": "code",
   "execution_count": null,
   "id": "5702c841",
   "metadata": {},
   "outputs": [],
   "source": [
    "rice_price=500\n",
    "money_given=900\n",
    "change=money_given%rice_price\n",
    "cups=money_given//rice_price\n",
    "if rice_price==400:\n",
    "    print('i bought {} cups of rice and collected {} change'.format(cups,change))\n",
    "elif rice_price==450:\n",
    "    print ('i bought {} cups of rice and collected {} change'.format(cups,change))\n",
    "elif rice_price==500:\n",
    "    print ('i bought {} cups of rice and collected {} change'.format(cups,change))\n",
    "else:\n",
    "    print ('return my money')"
   ]
  },
  {
   "cell_type": "code",
   "execution_count": null,
   "id": "86b831b4",
   "metadata": {},
   "outputs": [],
   "source": [
    "rice_price=600\n",
    "money_given=900\n",
    "change=money_given%rice_price\n",
    "cups=money_given//rice_price\n",
    "if rice_price==400:\n",
    "    print('i bought {} cups of rice and collected {} change'.format(cups,change))\n",
    "elif rice_price==450:\n",
    "    print ('i bought {} cups of rice and collected {} change'.format(cups,change))\n",
    "elif rice_price==500:\n",
    "    print ('i bought {} cups of rice and collected {} change'.format(cups,change))\n",
    "else:\n",
    "    print ('return my money')"
   ]
  },
  {
   "cell_type": "code",
   "execution_count": null,
   "id": "6108267b",
   "metadata": {},
   "outputs": [],
   "source": [
    "rice_price=600\n",
    "money_given=900\n",
    "change=money_given%rice_price\n",
    "cups=money_given//rice_price\n",
    "if rice_price==400:\n",
    "    print('i bought {} cups of rice and collected {} change'.format(cups,change))\n",
    "elif rice_price==450:\n",
    "    print ('i bought {} cups of rice and collected {} change'.format(cups,change))\n",
    "elif rice_price==500 or 600:\n",
    "    print ('i bought {} cups of rice and collected {} change'.format(cups,change))\n",
    "else:\n",
    "    print ('return my money')"
   ]
  },
  {
   "cell_type": "code",
   "execution_count": null,
   "id": "19895ca6",
   "metadata": {},
   "outputs": [],
   "source": []
  },
  {
   "cell_type": "markdown",
   "id": "b8b65fbd",
   "metadata": {},
   "source": []
  },
  {
   "cell_type": "code",
   "execution_count": null,
   "id": "2467454a",
   "metadata": {},
   "outputs": [],
   "source": []
  }
 ],
 "metadata": {
  "kernelspec": {
   "display_name": "Python 3 (ipykernel)",
   "language": "python",
   "name": "python3"
  },
  "language_info": {
   "codemirror_mode": {
    "name": "ipython",
    "version": 3
   },
   "file_extension": ".py",
   "mimetype": "text/x-python",
   "name": "python",
   "nbconvert_exporter": "python",
   "pygments_lexer": "ipython3",
   "version": "3.9.12"
  }
 },
 "nbformat": 4,
 "nbformat_minor": 5
}
